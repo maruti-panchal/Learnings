{
 "cells": [
  {
   "cell_type": "code",
   "execution_count": 1,
   "id": "2ac12419-99bc-4d2f-b1fd-37ed7b8ef7c9",
   "metadata": {},
   "outputs": [
    {
     "name": "stdout",
     "output_type": "stream",
     "text": [
      "No! I am not doing thsi course\n"
     ]
    }
   ],
   "source": [
    "course=['DSM','DSA','JAVA','Pyhthon']\n",
    "price=1000;\n",
    "mentor=\"Sudhanshu\"\n",
    "if 'DSA' in course and price==2000 and mentor==\"Sudhanshu\":\n",
    "    print(\"Yes! I am doing this Course\")\n",
    "else:\n",
    "    print(\"No! I am not doing thsi course\")\n"
   ]
  },
  {
   "cell_type": "code",
   "execution_count": 2,
   "id": "e6466c53-dad1-41e7-9541-c3f9587cb3c5",
   "metadata": {},
   "outputs": [
    {
     "name": "stdout",
     "output_type": "stream",
     "text": [
      "Yes! I am doing this Course\n"
     ]
    }
   ],
   "source": [
    "# We can also set the range for price\n",
    "\n",
    "if 'DSA' in course and 500<=price<=2000 and mentor==\"Sudhanshu\":\n",
    "    print(\"Yes! I am doing this Course\")\n",
    "else:\n",
    "    print(\"No! I am not doing thsi course\")"
   ]
  },
  {
   "cell_type": "code",
   "execution_count": 3,
   "id": "85605715-75bd-4342-a3c4-5f90ce244b99",
   "metadata": {},
   "outputs": [
    {
     "name": "stdout",
     "output_type": "stream",
     "text": [
      "Enter correct username and password\n"
     ]
    }
   ],
   "source": [
    "user_name=\"maruti\"\n",
    "password=\"maruti@123\"\n",
    "if user_name==input(\"enter your username\") and password==input(\"enter your Password\"):\n",
    "    print(\"You have Loged in Successfully\")\n",
    "else:\n",
    "    print(\"Enter correct username and password\")\n"
   ]
  },
  {
   "cell_type": "code",
   "execution_count": 4,
   "id": "a22f70e2-c8d2-4813-aab7-3081370da15d",
   "metadata": {},
   "outputs": [
    {
     "name": "stdout",
     "output_type": "stream",
     "text": [
      "14\n",
      "5\n",
      "5\n",
      "6\n",
      "7\n",
      "8\n",
      "8\n"
     ]
    }
   ],
   "source": [
    "l=[12,3,3,4,5,6,6]\n",
    "for ch in l:\n",
    "    print(ch+2)\n"
   ]
  },
  {
   "cell_type": "code",
   "execution_count": 5,
   "id": "d2d8952d-32b0-48ec-929c-31af61da6800",
   "metadata": {},
   "outputs": [
    {
     "name": "stdout",
     "output_type": "stream",
     "text": [
      "['Maruti', 'Ram', 'Lakhan', 'Vaibhav']\n",
      "[1, 2, 3, 4, 5]\n"
     ]
    }
   ],
   "source": [
    "l=[1,2,3,4,5,\"Maruti\",\"Ram\",\"Lakhan\",\"Vaibhav\"]\n",
    "l1=[]\n",
    "l2=[]\n",
    "for ele in l:\n",
    "    if type(ele)==str:\n",
    "       l1.append(ele)\n",
    "    else:\n",
    "       l2.append(ele)\n",
    "print(l1)\n",
    "print(l2)"
   ]
  },
  {
   "cell_type": "code",
   "execution_count": 6,
   "id": "73d12e29-f937-429c-a24d-88ced2f6d3ec",
   "metadata": {},
   "outputs": [],
   "source": [
    "details={'organization': 'Pw Skills',\n",
    " 'subject': ['Python', 'Web Devlopment', 'Data Analytics', 'Java'],\n",
    " 'mentor': ('Maruti', 'Vaibhav', 'Ram', 'Lakhan'),\n",
    " 'price': {1000, 2000, 3000, 4000},\n",
    " 'syllabus': {'Python': ['Array', 'String', 'Recursion', 'Linked List'],\n",
    "  'Web Devlopment': ('HTML', 'CSS', 'Javascript', 'React')}}"
   ]
  },
  {
   "cell_type": "code",
   "execution_count": 7,
   "id": "feed247e-c157-4e79-932d-4f48bb2d1d1e",
   "metadata": {},
   "outputs": [
    {
     "data": {
      "text/plain": [
       "{'organization': 'Pw Skills',\n",
       " 'subject': ['Python', 'Web Devlopment', 'Data Analytics', 'Java'],\n",
       " 'mentor': ('Maruti', 'Vaibhav', 'Ram', 'Lakhan'),\n",
       " 'price': {1000, 2000, 3000, 4000},\n",
       " 'syllabus': {'Python': ['Array', 'String', 'Recursion', 'Linked List'],\n",
       "  'Web Devlopment': ('HTML', 'CSS', 'Javascript', 'React')}}"
      ]
     },
     "execution_count": 7,
     "metadata": {},
     "output_type": "execute_result"
    }
   ],
   "source": [
    "details"
   ]
  },
  {
   "cell_type": "code",
   "execution_count": 8,
   "id": "9ed85b37-d1ba-4aea-b844-5bf0f9061156",
   "metadata": {},
   "outputs": [
    {
     "data": {
      "text/plain": [
       "dict_values(['Pw Skills', ['Python', 'Web Devlopment', 'Data Analytics', 'Java'], ('Maruti', 'Vaibhav', 'Ram', 'Lakhan'), {1000, 3000, 4000, 2000}, {'Python': ['Array', 'String', 'Recursion', 'Linked List'], 'Web Devlopment': ('HTML', 'CSS', 'Javascript', 'React')}])"
      ]
     },
     "execution_count": 8,
     "metadata": {},
     "output_type": "execute_result"
    }
   ],
   "source": [
    "details.values()"
   ]
  },
  {
   "cell_type": "code",
   "execution_count": 9,
   "id": "41e20f1d-dcfb-42a9-b3bc-00d1a43b9204",
   "metadata": {},
   "outputs": [
    {
     "name": "stdout",
     "output_type": "stream",
     "text": [
      "organization\n",
      "subject\n",
      "mentor\n",
      "price\n",
      "syllabus\n"
     ]
    }
   ],
   "source": [
    "for i in details:\n",
    "    print(i)"
   ]
  },
  {
   "cell_type": "code",
   "execution_count": 10,
   "id": "70554613-4612-43a4-b0fa-540c48c2da07",
   "metadata": {},
   "outputs": [
    {
     "name": "stdout",
     "output_type": "stream",
     "text": [
      "Pw Skills\n",
      "['Python', 'Web Devlopment', 'Data Analytics', 'Java']\n",
      "('Maruti', 'Vaibhav', 'Ram', 'Lakhan')\n",
      "{1000, 3000, 4000, 2000}\n",
      "{'Python': ['Array', 'String', 'Recursion', 'Linked List'], 'Web Devlopment': ('HTML', 'CSS', 'Javascript', 'React')}\n"
     ]
    }
   ],
   "source": [
    "for i in details.values():\n",
    "    print(i)"
   ]
  },
  {
   "cell_type": "code",
   "execution_count": 11,
   "id": "86a39bb7-0333-4870-8955-eed155551c37",
   "metadata": {},
   "outputs": [
    {
     "name": "stdout",
     "output_type": "stream",
     "text": [
      "No\n"
     ]
    }
   ],
   "source": [
    "if 'System design' in i:\n",
    "    print(\"yes\")\n",
    "else:\n",
    "    print(\"No\")"
   ]
  },
  {
   "cell_type": "code",
   "execution_count": null,
   "id": "9a859040-1d44-4ee3-8831-13a0c98057a7",
   "metadata": {},
   "outputs": [],
   "source": []
  }
 ],
 "metadata": {
  "kernelspec": {
   "display_name": "Python 3 (ipykernel)",
   "language": "python",
   "name": "python3"
  },
  "language_info": {
   "codemirror_mode": {
    "name": "ipython",
    "version": 3
   },
   "file_extension": ".py",
   "mimetype": "text/x-python",
   "name": "python",
   "nbconvert_exporter": "python",
   "pygments_lexer": "ipython3",
   "version": "3.10.13"
  }
 },
 "nbformat": 4,
 "nbformat_minor": 5
}
