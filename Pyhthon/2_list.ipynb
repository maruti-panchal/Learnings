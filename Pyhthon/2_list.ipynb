{
 "cells": [
  {
   "cell_type": "raw",
   "id": "953b6a0c-87e3-4f4f-9b2a-7dd4149d4cbd",
   "metadata": {},
   "source": [
    "Note :- \n",
    "--> In list we can store Hetrogenious Data.Means Multi type data.\n",
    "--> List is a mutable entity."
   ]
  },
  {
   "cell_type": "code",
   "execution_count": 1,
   "id": "595651b7-9f3a-472c-8eb3-7e351c07a768",
   "metadata": {},
   "outputs": [],
   "source": [
    "list1=[1,2,3,4,5,\"Sudh\",\"Kumar\",3+6j,345.575,True,[3,4,5,6]]"
   ]
  },
  {
   "cell_type": "code",
   "execution_count": 2,
   "id": "319e9253-05da-4075-954c-8b70d6e9d9a1",
   "metadata": {},
   "outputs": [
    {
     "data": {
      "text/plain": [
       "list"
      ]
     },
     "execution_count": 2,
     "metadata": {},
     "output_type": "execute_result"
    }
   ],
   "source": [
    "type(list1)"
   ]
  },
  {
   "cell_type": "code",
   "execution_count": 3,
   "id": "16d18a56-f99a-4251-8796-6ee50da1e59a",
   "metadata": {},
   "outputs": [
    {
     "data": {
      "text/plain": [
       "2"
      ]
     },
     "execution_count": 3,
     "metadata": {},
     "output_type": "execute_result"
    }
   ],
   "source": [
    "list1[1]"
   ]
  },
  {
   "cell_type": "code",
   "execution_count": 4,
   "id": "bd3236ae-5e2c-4bf7-8200-97492a3ec372",
   "metadata": {},
   "outputs": [
    {
     "data": {
      "text/plain": [
       "'Kumar'"
      ]
     },
     "execution_count": 4,
     "metadata": {},
     "output_type": "execute_result"
    }
   ],
   "source": [
    "list1[6]"
   ]
  },
  {
   "cell_type": "code",
   "execution_count": 5,
   "id": "e260a93d-4533-45e6-bd3b-d6807792d10c",
   "metadata": {},
   "outputs": [
    {
     "data": {
      "text/plain": [
       "1"
      ]
     },
     "execution_count": 5,
     "metadata": {},
     "output_type": "execute_result"
    }
   ],
   "source": [
    "list1[0]\n",
    "\n"
   ]
  },
  {
   "cell_type": "code",
   "execution_count": 6,
   "id": "0c8a4ffa-26a9-4d8d-a2dc-9d23689fff7b",
   "metadata": {},
   "outputs": [
    {
     "data": {
      "text/plain": [
       "[1, 2, 3, 4, 5, 'Sudh', 'Kumar', (3+6j), 345.575, True, [3, 4, 5, 6]]"
      ]
     },
     "execution_count": 6,
     "metadata": {},
     "output_type": "execute_result"
    }
   ],
   "source": [
    "list1"
   ]
  },
  {
   "cell_type": "code",
   "execution_count": 7,
   "id": "e8280993-5502-4fc5-b378-0e663c837d38",
   "metadata": {},
   "outputs": [
    {
     "data": {
      "text/plain": [
       "[3, 4, 5, 6]"
      ]
     },
     "execution_count": 7,
     "metadata": {},
     "output_type": "execute_result"
    }
   ],
   "source": [
    "list1[-1]      #Negative Indexing"
   ]
  },
  {
   "cell_type": "code",
   "execution_count": 8,
   "id": "0523342d-afb4-4b07-87c3-f860ff017df4",
   "metadata": {},
   "outputs": [
    {
     "data": {
      "text/plain": [
       "6"
      ]
     },
     "execution_count": 8,
     "metadata": {},
     "output_type": "execute_result"
    }
   ],
   "source": [
    "list1[-1][3]"
   ]
  },
  {
   "cell_type": "code",
   "execution_count": 9,
   "id": "7a8fa1aa-bd63-49e5-8ea0-2cd1dd2d95ff",
   "metadata": {},
   "outputs": [
    {
     "data": {
      "text/plain": [
       "6"
      ]
     },
     "execution_count": 9,
     "metadata": {},
     "output_type": "execute_result"
    }
   ],
   "source": [
    "list1[-1][-1]"
   ]
  },
  {
   "cell_type": "code",
   "execution_count": 10,
   "id": "f2366163-6a37-46fc-90f7-6cdd3e3e2ce5",
   "metadata": {},
   "outputs": [
    {
     "data": {
      "text/plain": [
       "[1, 2, 3, 4, 5]"
      ]
     },
     "execution_count": 10,
     "metadata": {},
     "output_type": "execute_result"
    }
   ],
   "source": [
    "# slicing\n",
    "list1[0:5]"
   ]
  },
  {
   "cell_type": "code",
   "execution_count": 11,
   "id": "ef531507-cb30-4587-a06e-cab23c6c9871",
   "metadata": {},
   "outputs": [
    {
     "data": {
      "text/plain": [
       "[1,\n",
       " 2,\n",
       " 3,\n",
       " 4,\n",
       " 5,\n",
       " 'Sudh',\n",
       " 'Kumar',\n",
       " (3+6j),\n",
       " 345.575,\n",
       " True,\n",
       " [3, 4, 5, 6],\n",
       " 3,\n",
       " 4,\n",
       " 5,\n",
       " 'pwskills',\n",
       " 'Maruti']"
      ]
     },
     "execution_count": 11,
     "metadata": {},
     "output_type": "execute_result"
    }
   ],
   "source": [
    "list2=[3,4,5,\"pwskills\",\"Maruti\"]\n",
    "list1+list2"
   ]
  },
  {
   "cell_type": "code",
   "execution_count": 12,
   "id": "c50e9b8a-d857-45c0-bbc4-2cada4eaef01",
   "metadata": {},
   "outputs": [
    {
     "data": {
      "text/plain": [
       "[3, 4, 5, 'pwskills', 'Maruti', 3, 4, 5, 'pwskills', 'Maruti']"
      ]
     },
     "execution_count": 12,
     "metadata": {},
     "output_type": "execute_result"
    }
   ],
   "source": [
    "list2*2"
   ]
  },
  {
   "cell_type": "code",
   "execution_count": 13,
   "id": "4052dc29-c154-4f4f-9b28-74f74a950d45",
   "metadata": {},
   "outputs": [],
   "source": [
    "list2[0]=100;    # Replacing value so it is mutable.\n",
    "list2[1]=200;\n",
    "list2[3]=300;"
   ]
  },
  {
   "cell_type": "code",
   "execution_count": 14,
   "id": "fa468576-0506-42bb-be91-231e65aa9822",
   "metadata": {},
   "outputs": [
    {
     "data": {
      "text/plain": [
       "[100, 200, 5, 300, 'Maruti']"
      ]
     },
     "execution_count": 14,
     "metadata": {},
     "output_type": "execute_result"
    }
   ],
   "source": [
    "list2"
   ]
  },
  {
   "cell_type": "code",
   "execution_count": 15,
   "id": "3a276b8e-7a88-456b-a148-d73735c373ff",
   "metadata": {},
   "outputs": [
    {
     "data": {
      "text/plain": [
       "5"
      ]
     },
     "execution_count": 15,
     "metadata": {},
     "output_type": "execute_result"
    }
   ],
   "source": [
    "\n",
    "len(list2)"
   ]
  },
  {
   "cell_type": "code",
   "execution_count": 16,
   "id": "f453febb-26b2-45ca-86a7-5833c8c6b9ba",
   "metadata": {},
   "outputs": [
    {
     "data": {
      "text/plain": [
       "11"
      ]
     },
     "execution_count": 16,
     "metadata": {},
     "output_type": "execute_result"
    }
   ],
   "source": [
    "len(list1)"
   ]
  },
  {
   "cell_type": "markdown",
   "id": "0154015c-72d1-47fb-a677-c450e7bc6a6e",
   "metadata": {},
   "source": []
  },
  {
   "cell_type": "code",
   "execution_count": 17,
   "id": "2ee23804-d6b4-4ad1-99ed-ae8e0fd17e3f",
   "metadata": {},
   "outputs": [],
   "source": [
    "list3=[1,2,3,4,5,\"Sudh\",\"Kumar\",3+6j,345.575,True,[3,4,5,6]]"
   ]
  },
  {
   "cell_type": "code",
   "execution_count": 18,
   "id": "930c996d-df57-4606-8e7c-6b8a4163d941",
   "metadata": {},
   "outputs": [
    {
     "data": {
      "text/plain": [
       "[1, 2, 3, 4, 5, 'Sudh', 'Kumar', (3+6j), 345.575, True, [3, 4, 5, 6]]"
      ]
     },
     "execution_count": 18,
     "metadata": {},
     "output_type": "execute_result"
    }
   ],
   "source": [
    "list3"
   ]
  },
  {
   "cell_type": "code",
   "execution_count": 19,
   "id": "8c7e0244-4d40-426a-93f2-fb88fdaa42a5",
   "metadata": {},
   "outputs": [],
   "source": [
    "list4=['a','e','i','o','u']"
   ]
  },
  {
   "cell_type": "code",
   "execution_count": 20,
   "id": "b0184bde-ecfc-40e0-908e-e71b9f0d49be",
   "metadata": {},
   "outputs": [
    {
     "data": {
      "text/plain": [
       "['a', 'e', 'i', 'o', 'u']"
      ]
     },
     "execution_count": 20,
     "metadata": {},
     "output_type": "execute_result"
    }
   ],
   "source": [
    "list4"
   ]
  },
  {
   "cell_type": "code",
   "execution_count": 21,
   "id": "08b08537-3a13-41c3-8692-f6c98cbbb2b8",
   "metadata": {},
   "outputs": [],
   "source": [
    "list3.append(list4)"
   ]
  },
  {
   "cell_type": "code",
   "execution_count": 22,
   "id": "3be6025e-61b2-4a9b-9c16-0217d04aefb3",
   "metadata": {},
   "outputs": [
    {
     "data": {
      "text/plain": [
       "[1,\n",
       " 2,\n",
       " 3,\n",
       " 4,\n",
       " 5,\n",
       " 'Sudh',\n",
       " 'Kumar',\n",
       " (3+6j),\n",
       " 345.575,\n",
       " True,\n",
       " [3, 4, 5, 6],\n",
       " ['a', 'e', 'i', 'o', 'u']]"
      ]
     },
     "execution_count": 22,
     "metadata": {},
     "output_type": "execute_result"
    }
   ],
   "source": [
    "list3\n"
   ]
  },
  {
   "cell_type": "code",
   "execution_count": 23,
   "id": "0b511159-85a1-4164-b815-0686a6c6f832",
   "metadata": {},
   "outputs": [],
   "source": [
    "list4.append(list3)"
   ]
  },
  {
   "cell_type": "code",
   "execution_count": 24,
   "id": "25af6041-0fe1-49a5-a598-084db707a63d",
   "metadata": {},
   "outputs": [
    {
     "data": {
      "text/plain": [
       "['a',\n",
       " 'e',\n",
       " 'i',\n",
       " 'o',\n",
       " 'u',\n",
       " [1, 2, 3, 4, 5, 'Sudh', 'Kumar', (3+6j), 345.575, True, [3, 4, 5, 6], [...]]]"
      ]
     },
     "execution_count": 24,
     "metadata": {},
     "output_type": "execute_result"
    }
   ],
   "source": [
    "list4"
   ]
  },
  {
   "cell_type": "code",
   "execution_count": 25,
   "id": "95ff4701-2b5e-47dd-90ab-dd43e676ec7b",
   "metadata": {},
   "outputs": [
    {
     "data": {
      "text/plain": [
       "['a',\n",
       " 'e',\n",
       " 'i',\n",
       " 'o',\n",
       " 'u',\n",
       " [1, 2, 3, 4, 5, 'Sudh', 'Kumar', (3+6j), 345.575, True, [3, 4, 5, 6], [...]]]"
      ]
     },
     "execution_count": 25,
     "metadata": {},
     "output_type": "execute_result"
    }
   ],
   "source": [
    "list4\n"
   ]
  },
  {
   "cell_type": "code",
   "execution_count": 26,
   "id": "934a7981-50a8-447a-a1af-1cfbc7797531",
   "metadata": {},
   "outputs": [],
   "source": [
    "list4.append(\"Maruti\")   # aapend at last."
   ]
  },
  {
   "cell_type": "code",
   "execution_count": 27,
   "id": "7b4fe191-137b-4e6d-979e-a4992d65cb65",
   "metadata": {},
   "outputs": [
    {
     "data": {
      "text/plain": [
       "['a',\n",
       " 'e',\n",
       " 'i',\n",
       " 'o',\n",
       " 'u',\n",
       " [1, 2, 3, 4, 5, 'Sudh', 'Kumar', (3+6j), 345.575, True, [3, 4, 5, 6], [...]],\n",
       " 'Maruti']"
      ]
     },
     "execution_count": 27,
     "metadata": {},
     "output_type": "execute_result"
    }
   ],
   "source": [
    "list4"
   ]
  },
  {
   "cell_type": "code",
   "execution_count": 28,
   "id": "98c023b0-b9f6-4e42-b17e-36b622ca5ca8",
   "metadata": {},
   "outputs": [],
   "source": [
    "list4.insert(0,\"Vaibhav\")     # insert  at provided position"
   ]
  },
  {
   "cell_type": "code",
   "execution_count": 29,
   "id": "4b470644-9df6-4c19-8112-58f557b78694",
   "metadata": {},
   "outputs": [
    {
     "data": {
      "text/plain": [
       "['Vaibhav',\n",
       " 'a',\n",
       " 'e',\n",
       " 'i',\n",
       " 'o',\n",
       " 'u',\n",
       " [1, 2, 3, 4, 5, 'Sudh', 'Kumar', (3+6j), 345.575, True, [3, 4, 5, 6], [...]],\n",
       " 'Maruti']"
      ]
     },
     "execution_count": 29,
     "metadata": {},
     "output_type": "execute_result"
    }
   ],
   "source": [
    "list4"
   ]
  },
  {
   "cell_type": "code",
   "execution_count": 30,
   "id": "d15370c2-b070-42f4-aade-1fa6b671c56d",
   "metadata": {},
   "outputs": [],
   "source": [
    "l1=[\"Maruti\"]    "
   ]
  },
  {
   "cell_type": "code",
   "execution_count": 31,
   "id": "b73df057-725a-4deb-8366-0a690b3605b0",
   "metadata": {},
   "outputs": [
    {
     "data": {
      "text/plain": [
       "['Maruti']"
      ]
     },
     "execution_count": 31,
     "metadata": {},
     "output_type": "execute_result"
    }
   ],
   "source": [
    "l1"
   ]
  },
  {
   "cell_type": "code",
   "execution_count": 32,
   "id": "fddc8ad7-cfbe-41ab-97a7-b79a0d2cc457",
   "metadata": {},
   "outputs": [],
   "source": [
    "l1.extend(\"Panchal\")         # iterate each element and then append one by one element"
   ]
  },
  {
   "cell_type": "code",
   "execution_count": 33,
   "id": "5a3e35ca-18ca-4e2b-8198-e21f354a395c",
   "metadata": {},
   "outputs": [
    {
     "data": {
      "text/plain": [
       "['Maruti', 'P', 'a', 'n', 'c', 'h', 'a', 'l']"
      ]
     },
     "execution_count": 33,
     "metadata": {},
     "output_type": "execute_result"
    }
   ],
   "source": [
    "l1"
   ]
  },
  {
   "cell_type": "code",
   "execution_count": 34,
   "id": "697aa92f-4f6c-4eba-8fa6-e97afb4caef7",
   "metadata": {},
   "outputs": [
    {
     "data": {
      "text/plain": [
       "['Maruti', 'P', 'a', 'n', 'c', 'h', 'a', 'l', 'Nilanga']"
      ]
     },
     "execution_count": 34,
     "metadata": {},
     "output_type": "execute_result"
    }
   ],
   "source": [
    "l1.append(\"Nilanga\")       \n",
    "l1"
   ]
  },
  {
   "cell_type": "code",
   "execution_count": 35,
   "id": "1b1b192a-ac41-477c-adb8-41377b3a0eb8",
   "metadata": {},
   "outputs": [
    {
     "data": {
      "text/plain": [
       "['Maruti', 'Dayanand', 'P', 'a', 'n', 'c', 'h', 'a', 'l', 'Nilanga']"
      ]
     },
     "execution_count": 35,
     "metadata": {},
     "output_type": "execute_result"
    }
   ],
   "source": [
    "l1.insert(1,\"Dayanand\")\n",
    "l1"
   ]
  },
  {
   "cell_type": "code",
   "execution_count": 36,
   "id": "283b4c39-8e7e-44a6-811a-6d3294138aa2",
   "metadata": {},
   "outputs": [
    {
     "data": {
      "text/plain": [
       "['Maruti', 'Dayanand', 'P', 'a', 'n', 'c', 'h', 'a', 'l']"
      ]
     },
     "execution_count": 36,
     "metadata": {},
     "output_type": "execute_result"
    }
   ],
   "source": [
    "l1.pop()     # delete last ele\n",
    "l1\n"
   ]
  },
  {
   "cell_type": "code",
   "execution_count": 37,
   "id": "1b835540-9e06-4bc0-8fee-80ebdfb679e0",
   "metadata": {},
   "outputs": [
    {
     "data": {
      "text/plain": [
       "['Maruti', 'P', 'a', 'n', 'c', 'h', 'a', 'l']"
      ]
     },
     "execution_count": 37,
     "metadata": {},
     "output_type": "execute_result"
    }
   ],
   "source": [
    "l1.pop(1)      # delete the ele at specified position\n",
    "l1"
   ]
  },
  {
   "cell_type": "code",
   "execution_count": 38,
   "id": "d1bc2e49-16e5-44e8-8532-0be61b3d1232",
   "metadata": {},
   "outputs": [
    {
     "data": {
      "text/plain": [
       "['Maruti', 'P', 'n', 'c', 'h', 'a', 'l']"
      ]
     },
     "execution_count": 38,
     "metadata": {},
     "output_type": "execute_result"
    }
   ],
   "source": [
    "l1.remove('a')\n",
    "l1"
   ]
  },
  {
   "cell_type": "code",
   "execution_count": 39,
   "id": "d58b7338-f0b5-4a7b-9896-33866a0bc6a1",
   "metadata": {},
   "outputs": [
    {
     "data": {
      "text/plain": [
       "['Maruti', 'Panchal', 1]"
      ]
     },
     "execution_count": 39,
     "metadata": {},
     "output_type": "execute_result"
    }
   ],
   "source": [
    "l2=[\"Maruti\",\"Panchal\",1]\n",
    "l2"
   ]
  },
  {
   "cell_type": "code",
   "execution_count": 40,
   "id": "e35a531a-5689-430e-8c47-bc76dce0c190",
   "metadata": {},
   "outputs": [],
   "source": [
    "del l2  # delete whole list"
   ]
  },
  {
   "cell_type": "code",
   "execution_count": 41,
   "id": "a875c71a-a554-4e6c-9ffc-0beae4ddd4df",
   "metadata": {},
   "outputs": [
    {
     "ename": "NameError",
     "evalue": "name 'l2' is not defined",
     "output_type": "error",
     "traceback": [
      "\u001b[0;31m---------------------------------------------------------------------------\u001b[0m",
      "\u001b[0;31mNameError\u001b[0m                                 Traceback (most recent call last)",
      "Cell \u001b[0;32mIn[41], line 1\u001b[0m\n\u001b[0;32m----> 1\u001b[0m \u001b[43ml2\u001b[49m\n",
      "\u001b[0;31mNameError\u001b[0m: name 'l2' is not defined"
     ]
    }
   ],
   "source": [
    "l2"
   ]
  },
  {
   "cell_type": "code",
   "execution_count": null,
   "id": "2080a1f3-7c3a-4281-8fc6-829d0c96bbf8",
   "metadata": {},
   "outputs": [
    {
     "data": {
      "text/plain": [
       "['Maruti', 'Panchal', 1]"
      ]
     },
     "execution_count": 50,
     "metadata": {},
     "output_type": "execute_result"
    }
   ],
   "source": [
    "l2=[\"Maruti\",\"Panchal\",1]\n",
    "l2"
   ]
  },
  {
   "cell_type": "code",
   "execution_count": null,
   "id": "eff58d6e-c585-41be-a036-93e0604c0502",
   "metadata": {},
   "outputs": [
    {
     "data": {
      "text/plain": [
       "[]"
      ]
     },
     "execution_count": 52,
     "metadata": {},
     "output_type": "execute_result"
    }
   ],
   "source": [
    "l2.clear()     # delete all element from list but empty list is there.\n",
    "l2"
   ]
  },
  {
   "cell_type": "code",
   "execution_count": null,
   "id": "b78f96f9-db3c-4db7-ac70-ccfc2079bce4",
   "metadata": {},
   "outputs": [
    {
     "data": {
      "text/plain": [
       "['Vaibhav',\n",
       " 'a',\n",
       " 'e',\n",
       " 'i',\n",
       " 'o',\n",
       " 'u',\n",
       " [1, 2, 3, 4, 5, 'Sudh', 'Kumar', (3+6j), 345.575, True, [3, 4, 5, 6], [...]],\n",
       " 'Maruti',\n",
       " 'Maruti']"
      ]
     },
     "execution_count": 56,
     "metadata": {},
     "output_type": "execute_result"
    }
   ],
   "source": [
    "list4"
   ]
  },
  {
   "cell_type": "code",
   "execution_count": null,
   "id": "affccba1-d266-4900-b98b-a427cda9ebf1",
   "metadata": {},
   "outputs": [
    {
     "data": {
      "text/plain": [
       "['Maruti',\n",
       " 'Maruti',\n",
       " [1, 2, 3, 4, 5, 'Sudh', 'Kumar', (3+6j), 345.575, True, [3, 4, 5, 6], [...]],\n",
       " 'u',\n",
       " 'o',\n",
       " 'i',\n",
       " 'e',\n",
       " 'a',\n",
       " 'Vaibhav']"
      ]
     },
     "execution_count": 57,
     "metadata": {},
     "output_type": "execute_result"
    }
   ],
   "source": [
    "list4.reverse()\n",
    "list4"
   ]
  },
  {
   "cell_type": "code",
   "execution_count": null,
   "id": "b18da3b6-17f3-420c-bec6-945126fd0428",
   "metadata": {},
   "outputs": [
    {
     "data": {
      "text/plain": [
       "[3, 8, 1, 0, 4, 6, 8, 2, 0, 1]"
      ]
     },
     "execution_count": 59,
     "metadata": {},
     "output_type": "execute_result"
    }
   ],
   "source": [
    "l3=[3,8,1,0,4,6,8,2,0,1]\n",
    "l3"
   ]
  },
  {
   "cell_type": "code",
   "execution_count": null,
   "id": "f9c479e2-9dbc-407d-a1de-dffc71759329",
   "metadata": {},
   "outputs": [
    {
     "data": {
      "text/plain": [
       "[0, 0, 1, 1, 2, 3, 4, 6, 8, 8]"
      ]
     },
     "execution_count": 62,
     "metadata": {},
     "output_type": "execute_result"
    }
   ],
   "source": [
    "l3.sort()      # To use elemeent should be same types\n",
    "l3"
   ]
  },
  {
   "cell_type": "code",
   "execution_count": null,
   "id": "c9ce5392-b2c9-40d4-abc8-7d592f07e7da",
   "metadata": {},
   "outputs": [
    {
     "data": {
      "text/plain": [
       "['maruti', 'panchal', 'abcd']"
      ]
     },
     "execution_count": 69,
     "metadata": {},
     "output_type": "execute_result"
    }
   ],
   "source": [
    "l4=[\"maruti\",\"panchal\",\"abcd\"]\n",
    "l4"
   ]
  },
  {
   "cell_type": "code",
   "execution_count": null,
   "id": "1c03e337-7c9f-4404-a1d1-501350c29850",
   "metadata": {},
   "outputs": [
    {
     "data": {
      "text/plain": [
       "['abcd', 'maruti', 'panchal']"
      ]
     },
     "execution_count": 70,
     "metadata": {},
     "output_type": "execute_result"
    }
   ],
   "source": [
    "l4.sort()\n",
    "l4"
   ]
  },
  {
   "cell_type": "code",
   "execution_count": null,
   "id": "0d33d46a-1f0d-465c-9609-aee589a80dea",
   "metadata": {},
   "outputs": [
    {
     "data": {
      "text/plain": [
       "['panchal', 'maruti', 'abcd']"
      ]
     },
     "execution_count": 71,
     "metadata": {},
     "output_type": "execute_result"
    }
   ],
   "source": [
    "l4.sort(reverse=True)\n",
    "l4"
   ]
  },
  {
   "cell_type": "code",
   "execution_count": null,
   "id": "dfd03499-af4d-409f-912c-a1ae625a4c5f",
   "metadata": {},
   "outputs": [
    {
     "data": {
      "text/plain": [
       "[2, 3, 4, 5]"
      ]
     },
     "execution_count": 72,
     "metadata": {},
     "output_type": "execute_result"
    }
   ],
   "source": [
    "l5=[2,3,4,5]\n",
    "l5"
   ]
  },
  {
   "cell_type": "code",
   "execution_count": null,
   "id": "4ad6e9e1-992c-4c74-8f8f-6b059d3fe955",
   "metadata": {},
   "outputs": [
    {
     "data": {
      "text/plain": [
       "[2, 3, 4, 5]"
      ]
     },
     "execution_count": 74,
     "metadata": {},
     "output_type": "execute_result"
    }
   ],
   "source": [
    "l6=l5         # Swallow Copy          # Store the refference\n",
    "l6"
   ]
  },
  {
   "cell_type": "code",
   "execution_count": null,
   "id": "460a4d4b-6858-4105-bbbb-026be2915e05",
   "metadata": {},
   "outputs": [
    {
     "data": {
      "text/plain": [
       "[200, 3, 4, 5]"
      ]
     },
     "execution_count": 75,
     "metadata": {},
     "output_type": "execute_result"
    }
   ],
   "source": [
    "l5[0]=200\n",
    "l5"
   ]
  },
  {
   "cell_type": "code",
   "execution_count": null,
   "id": "862fb524-10b3-40d4-977f-43da04fe76a2",
   "metadata": {},
   "outputs": [
    {
     "data": {
      "text/plain": [
       "[200, 3, 4, 5]"
      ]
     },
     "execution_count": 76,
     "metadata": {},
     "output_type": "execute_result"
    }
   ],
   "source": [
    "l6"
   ]
  },
  {
   "cell_type": "code",
   "execution_count": null,
   "id": "2a3349ca-964e-4265-b268-09d4d712e7b2",
   "metadata": {},
   "outputs": [
    {
     "data": {
      "text/plain": [
       "[200, 100, 4, 5]"
      ]
     },
     "execution_count": 78,
     "metadata": {},
     "output_type": "execute_result"
    }
   ],
   "source": [
    "l6[1]=100\n",
    "l6"
   ]
  },
  {
   "cell_type": "code",
   "execution_count": null,
   "id": "736ae785-79ef-4b9d-be69-74bb75f4db0f",
   "metadata": {},
   "outputs": [
    {
     "data": {
      "text/plain": [
       "[200, 100, 4, 5]"
      ]
     },
     "execution_count": 79,
     "metadata": {},
     "output_type": "execute_result"
    }
   ],
   "source": [
    "l5"
   ]
  },
  {
   "cell_type": "code",
   "execution_count": null,
   "id": "0d289968-c999-44ab-a454-334a578bdb87",
   "metadata": {},
   "outputs": [
    {
     "data": {
      "text/plain": [
       "[1, 2, 3, 4, 5]"
      ]
     },
     "execution_count": 80,
     "metadata": {},
     "output_type": "execute_result"
    }
   ],
   "source": [
    "l7=[1,2,3,4,5]\n",
    "l7"
   ]
  },
  {
   "cell_type": "code",
   "execution_count": null,
   "id": "ad4798b8-74dc-4f76-8682-9bdeb4d86fea",
   "metadata": {},
   "outputs": [
    {
     "data": {
      "text/plain": [
       "[1, 2, 3, 4, 5]"
      ]
     },
     "execution_count": 81,
     "metadata": {},
     "output_type": "execute_result"
    }
   ],
   "source": [
    "l8=l7.copy()             # Deep Copy      # It will create the another copy\n",
    "l8"
   ]
  },
  {
   "cell_type": "code",
   "execution_count": null,
   "id": "7650805d-930c-47cc-97fc-880b45104375",
   "metadata": {},
   "outputs": [
    {
     "data": {
      "text/plain": [
       "[100, 2, 3, 4, 5]"
      ]
     },
     "execution_count": 82,
     "metadata": {},
     "output_type": "execute_result"
    }
   ],
   "source": [
    "l7[0]=100\n",
    "l7"
   ]
  },
  {
   "cell_type": "code",
   "execution_count": null,
   "id": "193c876a-cb04-4c2c-80a1-29e5914c9905",
   "metadata": {},
   "outputs": [
    {
     "data": {
      "text/plain": [
       "[1, 2, 3, 4, 5]"
      ]
     },
     "execution_count": 83,
     "metadata": {},
     "output_type": "execute_result"
    }
   ],
   "source": [
    "l8                    # not affected after upadted original list"
   ]
  },
  {
   "cell_type": "code",
   "execution_count": null,
   "id": "ac56213a-df00-4548-960c-a4f53acb8a23",
   "metadata": {},
   "outputs": [],
   "source": [
    "l7=[1,2,3,4,5]"
   ]
  },
  {
   "cell_type": "code",
   "execution_count": null,
   "id": "826a405f-ad23-4aab-a5d7-1f888f73fd04",
   "metadata": {},
   "outputs": [
    {
     "data": {
      "text/plain": [
       "[1, 2, 3, 4, 5, 11, 11]"
      ]
     },
     "execution_count": 5,
     "metadata": {},
     "output_type": "execute_result"
    }
   ],
   "source": [
    "l7.append(11)\n",
    "l7"
   ]
  },
  {
   "cell_type": "code",
   "execution_count": null,
   "id": "c10450af-3a8b-4ef5-8fa6-b79b97db75d9",
   "metadata": {},
   "outputs": [],
   "source": []
  }
 ],
 "metadata": {
  "kernelspec": {
   "display_name": "Python 3 (ipykernel)",
   "language": "python",
   "name": "python3"
  },
  "language_info": {
   "codemirror_mode": {
    "name": "ipython",
    "version": 3
   },
   "file_extension": ".py",
   "mimetype": "text/x-python",
   "name": "python",
   "nbconvert_exporter": "python",
   "pygments_lexer": "ipython3",
   "version": "3.10.13"
  }
 },
 "nbformat": 4,
 "nbformat_minor": 5
}
