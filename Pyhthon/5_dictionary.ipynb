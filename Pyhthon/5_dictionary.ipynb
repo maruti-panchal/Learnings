{
 "cells": [
  {
   "cell_type": "markdown",
   "id": "899ff987-d429-4196-974e-fba511a043e2",
   "metadata": {},
   "source": [
    "Note :- \n",
    "--> It store data in Key Value Pair.\n",
    "--> It store Unique Value.\n",
    "--> Key is eqvivalent to indexes  & values are presented value at that key \n",
    "--> If there is duplicate elements then it will store latetest one.\n",
    "--> Dictionary is a Mutable.\n",
    "--> Key Can be a,\n",
    "                > integer\n",
    "                > string\n",
    "                > Tuple\n",
    "--> Key can't be a,\n",
    "                > list\n",
    "                > set\n"
   ]
  },
  {
   "cell_type": "code",
   "execution_count": 1,
   "id": "70739137-225a-4d2e-95b2-0055aecbbc4e",
   "metadata": {},
   "outputs": [
    {
     "data": {
      "text/plain": [
       "dict"
      ]
     },
     "execution_count": 1,
     "metadata": {},
     "output_type": "execute_result"
    }
   ],
   "source": [
    "dict1={}\n",
    "type(dict1)"
   ]
  },
  {
   "cell_type": "code",
   "execution_count": 2,
   "id": "da6b241c-7beb-4305-b51a-3621c42cd49b",
   "metadata": {},
   "outputs": [],
   "source": [
    "    dict1={\"firstName\":\"Maruti\",\"lastName\":\"Panchal\",\"subject\":[\"Python\",\"Javascript\",\"C++\",\"Java\",\"DBMS\"],\"prn\":12345}   # Key may be string"
   ]
  },
  {
   "cell_type": "code",
   "execution_count": 3,
   "id": "29066667-510a-40c0-b61d-73cac231bf98",
   "metadata": {},
   "outputs": [
    {
     "data": {
      "text/plain": [
       "{'firstName': 'Maruti',\n",
       " 'lastName': 'Panchal',\n",
       " 'subject': ['Python', 'Javascript', 'C++', 'Java', 'DBMS'],\n",
       " 'prn': 12345}"
      ]
     },
     "execution_count": 3,
     "metadata": {},
     "output_type": "execute_result"
    }
   ],
   "source": [
    "dict1\n"
   ]
  },
  {
   "cell_type": "code",
   "execution_count": 4,
   "id": "fafca0af-0132-47a0-97ef-b08152e0f2fb",
   "metadata": {},
   "outputs": [
    {
     "data": {
      "text/plain": [
       "'Maruti'"
      ]
     },
     "execution_count": 4,
     "metadata": {},
     "output_type": "execute_result"
    }
   ],
   "source": [
    "dict1[\"firstName\"]"
   ]
  },
  {
   "cell_type": "code",
   "execution_count": 5,
   "id": "d5bbf1e8-1bca-49d0-8ff2-4697d378cf2a",
   "metadata": {},
   "outputs": [],
   "source": [
    "dict1[\"firstName\"]=\"vaibhav\""
   ]
  },
  {
   "cell_type": "code",
   "execution_count": 6,
   "id": "5d771c89-633f-4367-91f3-942f4a22ff92",
   "metadata": {},
   "outputs": [
    {
     "data": {
      "text/plain": [
       "{'firstName': 'vaibhav',\n",
       " 'lastName': 'Panchal',\n",
       " 'subject': ['Python', 'Javascript', 'C++', 'Java', 'DBMS'],\n",
       " 'prn': 12345}"
      ]
     },
     "execution_count": 6,
     "metadata": {},
     "output_type": "execute_result"
    }
   ],
   "source": [
    "dict1"
   ]
  },
  {
   "cell_type": "code",
   "execution_count": 7,
   "id": "4fc8281c-8de9-4a5b-a4a1-4c8dcd3b94b1",
   "metadata": {},
   "outputs": [],
   "source": [
    " dict2={1:\"Maruti\",2:\"Panchal\",3:[\"Python\",\"Javascript\",\"C++\",\"Java\",\"DBMS\"],4:12345}    # Key may be Integer"
   ]
  },
  {
   "cell_type": "code",
   "execution_count": 8,
   "id": "a33cacc3-0638-4841-9b08-fd8712a05a60",
   "metadata": {},
   "outputs": [
    {
     "data": {
      "text/plain": [
       "{1: 'Maruti',\n",
       " 2: 'Panchal',\n",
       " 3: ['Python', 'Javascript', 'C++', 'Java', 'DBMS'],\n",
       " 4: 12345}"
      ]
     },
     "execution_count": 8,
     "metadata": {},
     "output_type": "execute_result"
    }
   ],
   "source": [
    "dict2"
   ]
  },
  {
   "cell_type": "code",
   "execution_count": 9,
   "id": "c8fdecbb-1a65-4e99-b3a0-34b7899dcd29",
   "metadata": {},
   "outputs": [],
   "source": [
    "pwSkills={'organization':'Pw Skills','subject':['Python','Web Devlopment','Data Analytics','Java'],'mentor':('Maruti','Vaibhav','Ram','Lakhan'),'price':{1000,2000,3000,4000}}"
   ]
  },
  {
   "cell_type": "code",
   "execution_count": 10,
   "id": "798fc600-52d8-4af9-8416-0d0ef44060ae",
   "metadata": {},
   "outputs": [
    {
     "data": {
      "text/plain": [
       "{'organization': 'Pw Skills',\n",
       " 'subject': ['Python', 'Web Devlopment', 'Data Analytics', 'Java'],\n",
       " 'mentor': ('Maruti', 'Vaibhav', 'Ram', 'Lakhan'),\n",
       " 'price': {1000, 2000, 3000, 4000}}"
      ]
     },
     "execution_count": 10,
     "metadata": {},
     "output_type": "execute_result"
    }
   ],
   "source": [
    "pwSkills\n"
   ]
  },
  {
   "cell_type": "code",
   "execution_count": 11,
   "id": "3ff7ac05-5abe-481a-ac91-a72c799a03af",
   "metadata": {},
   "outputs": [],
   "source": [
    "pwSkills['syllabus']={'Python':['Array','String','Recursion','Linked List'],'Web Devlopment':('HTML','CSS','Javascript','React')}"
   ]
  },
  {
   "cell_type": "code",
   "execution_count": 12,
   "id": "87963f53-726c-4f0f-97db-29827bb669ac",
   "metadata": {},
   "outputs": [
    {
     "data": {
      "text/plain": [
       "{'organization': 'Pw Skills',\n",
       " 'subject': ['Python', 'Web Devlopment', 'Data Analytics', 'Java'],\n",
       " 'mentor': ('Maruti', 'Vaibhav', 'Ram', 'Lakhan'),\n",
       " 'price': {1000, 2000, 3000, 4000},\n",
       " 'syllabus': {'Python': ['Array', 'String', 'Recursion', 'Linked List'],\n",
       "  'Web Devlopment': ('HTML', 'CSS', 'Javascript', 'React')}}"
      ]
     },
     "execution_count": 12,
     "metadata": {},
     "output_type": "execute_result"
    }
   ],
   "source": [
    "pwSkills\n"
   ]
  },
  {
   "cell_type": "code",
   "execution_count": 13,
   "id": "cc3713cb-023e-49f1-a2b4-097cdc4644a3",
   "metadata": {},
   "outputs": [
    {
     "ename": "AttributeError",
     "evalue": "'dict' object has no attribute 'getkeys'",
     "output_type": "error",
     "traceback": [
      "\u001b[0;31m---------------------------------------------------------------------------\u001b[0m",
      "\u001b[0;31mAttributeError\u001b[0m                            Traceback (most recent call last)",
      "Cell \u001b[0;32mIn[13], line 1\u001b[0m\n\u001b[0;32m----> 1\u001b[0m \u001b[43mpwSkills\u001b[49m\u001b[38;5;241;43m.\u001b[39;49m\u001b[43mgetkeys\u001b[49m()\n",
      "\u001b[0;31mAttributeError\u001b[0m: 'dict' object has no attribute 'getkeys'"
     ]
    }
   ],
   "source": [
    "pwSkills.getkeys()"
   ]
  },
  {
   "cell_type": "code",
   "execution_count": null,
   "id": "2331bdfc-3128-40ec-b018-0be8c7f7f770",
   "metadata": {},
   "outputs": [
    {
     "ename": "AttributeError",
     "evalue": "'dict' object has no attribute 'all_keys'",
     "output_type": "error",
     "traceback": [
      "\u001b[0;31m---------------------------------------------------------------------------\u001b[0m",
      "\u001b[0;31mAttributeError\u001b[0m                            Traceback (most recent call last)",
      "Cell \u001b[0;32mIn[10], line 1\u001b[0m\n\u001b[0;32m----> 1\u001b[0m \u001b[43mpwSkills\u001b[49m\u001b[38;5;241;43m.\u001b[39;49m\u001b[43mall_keys\u001b[49m()\n",
      "\u001b[0;31mAttributeError\u001b[0m: 'dict' object has no attribute 'all_keys'"
     ]
    }
   ],
   "source": [
    "pwSkills.all_keys()"
   ]
  },
  {
   "cell_type": "code",
   "execution_count": null,
   "id": "58284407-6522-4a4a-82b9-ba7cf4425a89",
   "metadata": {},
   "outputs": [
    {
     "data": {
      "text/plain": [
       "dict_keys(['organization', 'subject', 'mentor', 'price'])"
      ]
     },
     "execution_count": 9,
     "metadata": {},
     "output_type": "execute_result"
    }
   ],
   "source": [
    "pwSkills.keys()"
   ]
  },
  {
   "cell_type": "code",
   "execution_count": null,
   "id": "17dd360c-557c-4818-961c-e100ec5919fe",
   "metadata": {},
   "outputs": [
    {
     "ename": "AttributeError",
     "evalue": "'dict' object has no attribute 'fetch_keys'",
     "output_type": "error",
     "traceback": [
      "\u001b[0;31m---------------------------------------------------------------------------\u001b[0m",
      "\u001b[0;31mAttributeError\u001b[0m                            Traceback (most recent call last)",
      "Cell \u001b[0;32mIn[11], line 1\u001b[0m\n\u001b[0;32m----> 1\u001b[0m \u001b[43mpwSkills\u001b[49m\u001b[38;5;241;43m.\u001b[39;49m\u001b[43mfetch_keys\u001b[49m()\n",
      "\u001b[0;31mAttributeError\u001b[0m: 'dict' object has no attribute 'fetch_keys'"
     ]
    }
   ],
   "source": [
    "pwSkills.fetch_keys()"
   ]
  },
  {
   "cell_type": "code",
   "execution_count": null,
   "id": "e82ed208-74a0-4667-9931-a9731e22ab32",
   "metadata": {},
   "outputs": [],
   "source": []
  }
 ],
 "metadata": {
  "kernelspec": {
   "display_name": "Python 3 (ipykernel)",
   "language": "python",
   "name": "python3"
  },
  "language_info": {
   "codemirror_mode": {
    "name": "ipython",
    "version": 3
   },
   "file_extension": ".py",
   "mimetype": "text/x-python",
   "name": "python",
   "nbconvert_exporter": "python",
   "pygments_lexer": "ipython3",
   "version": "3.10.13"
  }
 },
 "nbformat": 4,
 "nbformat_minor": 5
}
