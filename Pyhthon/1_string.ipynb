{
 "cells": [
  {
   "cell_type": "markdown",
   "id": "89ec4fed-961e-4e1a-8872-df775f52fda9",
   "metadata": {},
   "source": [
    "String method Practice"
   ]
  },
  {
   "cell_type": "code",
   "execution_count": 1,
   "id": "57f73ab2-0482-4525-8def-6b2fc4ffee7d",
   "metadata": {},
   "outputs": [],
   "source": [
    "str1=\"Pwskills\""
   ]
  },
  {
   "cell_type": "code",
   "execution_count": 2,
   "id": "b4944fb0-fe57-4f34-9f53-3afa8c4e6ca1",
   "metadata": {},
   "outputs": [
    {
     "data": {
      "text/plain": [
       "2"
      ]
     },
     "execution_count": 2,
     "metadata": {},
     "output_type": "execute_result"
    }
   ],
   "source": [
    "str1.count('l')"
   ]
  },
  {
   "cell_type": "code",
   "execution_count": 3,
   "id": "850f991c-90b3-483e-bf48-2c549cab1ad7",
   "metadata": {},
   "outputs": [
    {
     "data": {
      "text/plain": [
       "1"
      ]
     },
     "execution_count": 3,
     "metadata": {},
     "output_type": "execute_result"
    }
   ],
   "source": [
    "str1.find('w')    # Gives index  Difference between index---> if ele not available in string then it gives -1."
   ]
  },
  {
   "cell_type": "code",
   "execution_count": 4,
   "id": "c7a1dfb3-a69d-4528-b16f-ec715776bc71",
   "metadata": {},
   "outputs": [
    {
     "data": {
      "text/plain": [
       "1"
      ]
     },
     "execution_count": 4,
     "metadata": {},
     "output_type": "execute_result"
    }
   ],
   "source": [
    "str1.index('w')   # Gives index  Difference between find--->  if ele not available in string then it gives Error."
   ]
  },
  {
   "cell_type": "code",
   "execution_count": 5,
   "id": "83af4a44-c34f-4744-8850-d22aba9a9812",
   "metadata": {},
   "outputs": [
    {
     "data": {
      "text/plain": [
       "'pwskills'"
      ]
     },
     "execution_count": 5,
     "metadata": {},
     "output_type": "execute_result"
    }
   ],
   "source": [
    "str1.lower()"
   ]
  },
  {
   "cell_type": "code",
   "execution_count": 6,
   "id": "0137274a-c394-43f8-9c49-6135d6a3f788",
   "metadata": {},
   "outputs": [
    {
     "data": {
      "text/plain": [
       "'PWSKILLS'"
      ]
     },
     "execution_count": 6,
     "metadata": {},
     "output_type": "execute_result"
    }
   ],
   "source": [
    "str1.upper()"
   ]
  },
  {
   "cell_type": "code",
   "execution_count": 7,
   "id": "80c66636-8d9d-4833-bce7-b1c570c64f72",
   "metadata": {},
   "outputs": [
    {
     "data": {
      "text/plain": [
       "'My Name Is Maruti Panchal'"
      ]
     },
     "execution_count": 7,
     "metadata": {},
     "output_type": "execute_result"
    }
   ],
   "source": [
    "str2=\"my name is maruti panchal\"   # Convert starting alphabte of each word in a Capital letter. \n",
    "str2.title()"
   ]
  },
  {
   "cell_type": "markdown",
   "id": "007dab63-d6d4-47b0-84b5-18ee56f31c22",
   "metadata": {},
   "source": [
    "# split() :- split the data and return the list. we seperate the values based on space , comma , alphabates , dot , etc."
   ]
  },
  {
   "cell_type": "code",
   "execution_count": 8,
   "id": "77e9f2ba-824e-4dee-8367-ef0d8ea052f3",
   "metadata": {},
   "outputs": [
    {
     "data": {
      "text/plain": [
       "['my', 'name', 'is', 'maruti', 'panchal']"
      ]
     },
     "execution_count": 8,
     "metadata": {},
     "output_type": "execute_result"
    }
   ],
   "source": [
    "str2.split()   # split based on space"
   ]
  },
  {
   "cell_type": "code",
   "execution_count": 9,
   "id": "be282832-1b67-417d-a213-75f9ab7df980",
   "metadata": {},
   "outputs": [
    {
     "data": {
      "text/plain": [
       "['what', 'is', 'your', 'name']"
      ]
     },
     "execution_count": 9,
     "metadata": {},
     "output_type": "execute_result"
    }
   ],
   "source": [
    "str3=\"what,is,your,name\";    # split based on Comma\n",
    "str3.split(',')"
   ]
  },
  {
   "cell_type": "code",
   "execution_count": 10,
   "id": "3d7a41eb-fd5c-4261-9fee-0db143534652",
   "metadata": {},
   "outputs": [
    {
     "data": {
      "text/plain": [
       "['wh', 't,is,your,n', 'me']"
      ]
     },
     "execution_count": 10,
     "metadata": {},
     "output_type": "execute_result"
    }
   ],
   "source": [
    "str3.split('a')   # Split based on alphabates"
   ]
  },
  {
   "cell_type": "code",
   "execution_count": 11,
   "id": "2909990c-0d2b-47ed-9d55-6ef8e74a40ad",
   "metadata": {},
   "outputs": [
    {
     "data": {
      "text/plain": [
       "['My name is Maruti Panchal', 'I am a Pwskill members', '']"
      ]
     },
     "execution_count": 11,
     "metadata": {},
     "output_type": "execute_result"
    }
   ],
   "source": [
    "str4=\"My name is Maruti Panchal.I am a Pwskill members.\"\n",
    "str4.split('.')          # Split based on Dot"
   ]
  },
  {
   "cell_type": "code",
   "execution_count": 12,
   "id": "dddfd511-cf73-4d26-ab0c-ce4cef869ce9",
   "metadata": {},
   "outputs": [
    {
     "data": {
      "text/plain": [
       "'My name is Maruti Panchal'"
      ]
     },
     "execution_count": 12,
     "metadata": {},
     "output_type": "execute_result"
    }
   ],
   "source": [
    "str4.split('.')[0]"
   ]
  },
  {
   "cell_type": "code",
   "execution_count": 13,
   "id": "f080a1eb-f921-4e27-ae57-ac7595f9aa1d",
   "metadata": {},
   "outputs": [
    {
     "data": {
      "text/plain": [
       "'I am a Pwskill members'"
      ]
     },
     "execution_count": 13,
     "metadata": {},
     "output_type": "execute_result"
    }
   ],
   "source": [
    "str5=str4.split('.')\n",
    "str5[1]"
   ]
  },
  {
   "cell_type": "code",
   "execution_count": 14,
   "id": "e1cd5cfe-642d-4627-a552-f18b75ba921b",
   "metadata": {},
   "outputs": [
    {
     "data": {
      "text/plain": [
       "'My name is maruti panchal'"
      ]
     },
     "execution_count": 14,
     "metadata": {},
     "output_type": "execute_result"
    }
   ],
   "source": [
    "str2.capitalize()     # starting word convert in capital letter"
   ]
  },
  {
   "cell_type": "code",
   "execution_count": 15,
   "id": "ac88d8cc-d706-449e-82d0-3fdf9c538e61",
   "metadata": {},
   "outputs": [
    {
     "data": {
      "text/plain": [
       "'My Name Is Maruti Panchal'"
      ]
     },
     "execution_count": 15,
     "metadata": {},
     "output_type": "execute_result"
    }
   ],
   "source": [
    "str2.title()          # Convert starting alphabte of each word in a Capital letter."
   ]
  },
  {
   "cell_type": "code",
   "execution_count": 16,
   "id": "89c83425-c14c-4017-85d1-e57d76d0387b",
   "metadata": {},
   "outputs": [
    {
     "data": {
      "text/plain": [
       "'ky nake is karuti panchal'"
      ]
     },
     "execution_count": 16,
     "metadata": {},
     "output_type": "execute_result"
    }
   ],
   "source": [
    "str2.replace('m','k')"
   ]
  },
  {
   "cell_type": "code",
   "execution_count": 17,
   "id": "f645ce4d-7016-463b-9cff-09397abf0e5d",
   "metadata": {},
   "outputs": [
    {
     "data": {
      "text/plain": [
       "'****************Pwskills****************'"
      ]
     },
     "execution_count": 17,
     "metadata": {},
     "output_type": "execute_result"
    }
   ],
   "source": [
    "str1.center(40,'*')"
   ]
  },
  {
   "cell_type": "code",
   "execution_count": 18,
   "id": "467a55bd-4f7b-4628-9041-7d570d106832",
   "metadata": {},
   "outputs": [
    {
     "data": {
      "text/plain": [
       "False"
      ]
     },
     "execution_count": 18,
     "metadata": {},
     "output_type": "execute_result"
    }
   ],
   "source": [
    "str1.islower()"
   ]
  },
  {
   "cell_type": "code",
   "execution_count": 19,
   "id": "18608b7a-06ed-4abd-8276-3723e8d23940",
   "metadata": {},
   "outputs": [
    {
     "data": {
      "text/plain": [
       "True"
      ]
     },
     "execution_count": 19,
     "metadata": {},
     "output_type": "execute_result"
    }
   ],
   "source": [
    "str1.isalpha()"
   ]
  },
  {
   "cell_type": "code",
   "execution_count": 20,
   "id": "2cb3f623-9819-41c4-9f63-3f4bd654677e",
   "metadata": {},
   "outputs": [
    {
     "data": {
      "text/plain": [
       "True"
      ]
     },
     "execution_count": 20,
     "metadata": {},
     "output_type": "execute_result"
    }
   ],
   "source": [
    "str1.isalnum()"
   ]
  },
  {
   "cell_type": "code",
   "execution_count": 21,
   "id": "d864697f-c085-478e-8a70-d86bccd10cdf",
   "metadata": {},
   "outputs": [
    {
     "data": {
      "text/plain": [
       "'.srebmem llikswP a ma I.lahcnaP ituraM si eman yM'"
      ]
     },
     "execution_count": 21,
     "metadata": {},
     "output_type": "execute_result"
    }
   ],
   "source": [
    "str4=\"My name is Maruti Panchal.I am a Pwskill members.\"\n",
    "str4[::-1]"
   ]
  },
  {
   "cell_type": "code",
   "execution_count": 22,
   "id": "2034f584-d650-4533-ac0e-38363ef031b3",
   "metadata": {},
   "outputs": [
    {
     "data": {
      "text/plain": [
       "set()"
      ]
     },
     "execution_count": 22,
     "metadata": {},
     "output_type": "execute_result"
    }
   ],
   "source": [
    "set()"
   ]
  },
  {
   "cell_type": "code",
   "execution_count": 23,
   "id": "9985453c-21a3-4cce-a560-e79175255706",
   "metadata": {},
   "outputs": [
    {
     "ename": "SyntaxError",
     "evalue": "invalid syntax (3711166664.py, line 1)",
     "output_type": "error",
     "traceback": [
      "\u001b[0;36m  Cell \u001b[0;32mIn[23], line 1\u001b[0;36m\u001b[0m\n\u001b[0;31m    set{}\u001b[0m\n\u001b[0m       ^\u001b[0m\n\u001b[0;31mSyntaxError\u001b[0m\u001b[0;31m:\u001b[0m invalid syntax\n"
     ]
    }
   ],
   "source": [
    "set{}"
   ]
  },
  {
   "cell_type": "code",
   "execution_count": null,
   "id": "c7408bc6-057a-4670-b1bc-9666a81da13c",
   "metadata": {},
   "outputs": [
    {
     "data": {
      "text/plain": [
       "{}"
      ]
     },
     "execution_count": 17,
     "metadata": {},
     "output_type": "execute_result"
    }
   ],
   "source": [
    "{}"
   ]
  },
  {
   "cell_type": "code",
   "execution_count": null,
   "id": "e62bfaa7-28af-4667-9bc5-7d755edfa791",
   "metadata": {},
   "outputs": [
    {
     "data": {
      "text/plain": [
       "[]"
      ]
     },
     "execution_count": 18,
     "metadata": {},
     "output_type": "execute_result"
    }
   ],
   "source": [
    "[]"
   ]
  },
  {
   "cell_type": "code",
   "execution_count": null,
   "id": "784b03d7-8fb0-4e1c-b46a-c484513f9f19",
   "metadata": {},
   "outputs": [
    {
     "ename": "SyntaxError",
     "evalue": "invalid syntax (552763505.py, line 1)",
     "output_type": "error",
     "traceback": [
      "\u001b[0;36m  Cell \u001b[0;32mIn[15], line 1\u001b[0;36m\u001b[0m\n\u001b[0;31m    `set()`\u001b[0m\n\u001b[0m    ^\u001b[0m\n\u001b[0;31mSyntaxError\u001b[0m\u001b[0;31m:\u001b[0m invalid syntax\n"
     ]
    }
   ],
   "source": [
    "`set()`"
   ]
  },
  {
   "cell_type": "code",
   "execution_count": null,
   "id": "e7aa90ea-b48f-44ef-9af6-569216b15c33",
   "metadata": {},
   "outputs": [],
   "source": []
  }
 ],
 "metadata": {
  "kernelspec": {
   "display_name": "Python 3 (ipykernel)",
   "language": "python",
   "name": "python3"
  },
  "language_info": {
   "codemirror_mode": {
    "name": "ipython",
    "version": 3
   },
   "file_extension": ".py",
   "mimetype": "text/x-python",
   "name": "python",
   "nbconvert_exporter": "python",
   "pygments_lexer": "ipython3",
   "version": "3.10.13"
  }
 },
 "nbformat": 4,
 "nbformat_minor": 5
}
