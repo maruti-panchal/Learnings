{
 "cells": [
  {
   "cell_type": "markdown",
   "id": "d7a00bda-2698-4509-a128-62f676f1289e",
   "metadata": {},
   "source": [
    "Note :- \n",
    "--> Set is used remove the duplicates elements.and gives set which has all unique elements.\n",
    "--> There is no concept of Mutable and Immuatable because we cannot access the element like a[i].\n",
    "--> To access the ele from set we need to convert in list or tuple the we can access the element.\n"
   ]
  },
  {
   "cell_type": "code",
   "execution_count": 1,
   "id": "e4bfe6f5-af5b-43f7-b7ab-fb6f0c185b6c",
   "metadata": {},
   "outputs": [
    {
     "data": {
      "text/plain": [
       "dict"
      ]
     },
     "execution_count": 1,
     "metadata": {},
     "output_type": "execute_result"
    }
   ],
   "source": [
    "set1={}\n",
    "type(set1)"
   ]
  },
  {
   "cell_type": "code",
   "execution_count": 2,
   "id": "3bff6b91-2984-4b69-b36b-8df1420926b9",
   "metadata": {},
   "outputs": [],
   "source": [
    "set2={1,2,3,4,5,\"Maruti\",\"maruti\",\"maruti\",1,2,3,4,5,6,7,8,9,10}"
   ]
  },
  {
   "cell_type": "code",
   "execution_count": 3,
   "id": "e4955752-7bc6-4971-8c62-88f61a903cb1",
   "metadata": {},
   "outputs": [
    {
     "data": {
      "text/plain": [
       "{1, 10, 2, 3, 4, 5, 6, 7, 8, 9, 'Maruti', 'maruti'}"
      ]
     },
     "execution_count": 3,
     "metadata": {},
     "output_type": "execute_result"
    }
   ],
   "source": [
    "set2"
   ]
  },
  {
   "cell_type": "code",
   "execution_count": 4,
   "id": "07afcece-805e-4423-95a3-e28840deaeae",
   "metadata": {},
   "outputs": [
    {
     "data": {
      "text/plain": [
       "set"
      ]
     },
     "execution_count": 4,
     "metadata": {},
     "output_type": "execute_result"
    }
   ],
   "source": [
    "type(set2)"
   ]
  },
  {
   "cell_type": "code",
   "execution_count": 5,
   "id": "303080eb-146d-4380-b038-2362e865573c",
   "metadata": {},
   "outputs": [
    {
     "ename": "TypeError",
     "evalue": "'set' object does not support item assignment",
     "output_type": "error",
     "traceback": [
      "\u001b[0;31m---------------------------------------------------------------------------\u001b[0m",
      "\u001b[0;31mTypeError\u001b[0m                                 Traceback (most recent call last)",
      "Cell \u001b[0;32mIn[5], line 1\u001b[0m\n\u001b[0;32m----> 1\u001b[0m \u001b[43mset2\u001b[49m\u001b[43m[\u001b[49m\u001b[38;5;241;43m0\u001b[39;49m\u001b[43m]\u001b[49m\u001b[38;5;241m=\u001b[39m\u001b[38;5;124m\"\u001b[39m\u001b[38;5;124mRam\u001b[39m\u001b[38;5;124m\"\u001b[39m   \u001b[38;5;66;03m# No concep Mutable or Immutable\u001b[39;00m\n",
      "\u001b[0;31mTypeError\u001b[0m: 'set' object does not support item assignment"
     ]
    }
   ],
   "source": [
    "set2[0]=\"Ram\"   # No concep Mutable or Immutable"
   ]
  },
  {
   "cell_type": "code",
   "execution_count": null,
   "id": "461d1fd4-e6a6-4b73-846f-f1125c61de9b",
   "metadata": {},
   "outputs": [
    {
     "data": {
      "text/plain": [
       "[1, 2, 3, 4, 5, 6, 7, 8, 'maruti', 9, 10, 'Maruti']"
      ]
     },
     "execution_count": 12,
     "metadata": {},
     "output_type": "execute_result"
    }
   ],
   "source": [
    "list(set2)"
   ]
  },
  {
   "cell_type": "code",
   "execution_count": null,
   "id": "ae15a520-d92d-4bc2-9910-012f8d1be0ee",
   "metadata": {},
   "outputs": [],
   "source": [
    "set2={1,2,3,4,5,\"Maruti\",\"maruti\",\"maruti\",1,2,3,4,5,6,7,8,9,10}\n",
    "set2.add(100)"
   ]
  },
  {
   "cell_type": "code",
   "execution_count": null,
   "id": "be33caad-d54f-46d1-a632-e7e280c46b21",
   "metadata": {},
   "outputs": [
    {
     "data": {
      "text/plain": [
       "{1, 10, 100, 2, 3, 4, 5, 6, 7, 8, 9, 'Maruti', 'maruti'}"
      ]
     },
     "execution_count": 7,
     "metadata": {},
     "output_type": "execute_result"
    }
   ],
   "source": [
    "set2"
   ]
  },
  {
   "cell_type": "markdown",
   "id": "3dea13da-eae2-4bc7-bf85-7ef1b7102606",
   "metadata": {},
   "source": [
    "set2"
   ]
  },
  {
   "cell_type": "code",
   "execution_count": null,
   "id": "c5308cd3-a4c2-4c75-b863-935c6718b017",
   "metadata": {},
   "outputs": [
    {
     "data": {
      "text/plain": [
       "{1, 10, 100, 2, 3, 4, 5, 6, 7, 8, 9, 'Maruti', 'maruti'}"
      ]
     },
     "execution_count": 11,
     "metadata": {},
     "output_type": "execute_result"
    }
   ],
   "source": [
    "set2"
   ]
  },
  {
   "cell_type": "code",
   "execution_count": null,
   "id": "39f440a4-8fdc-4db4-9575-97560195c6a2",
   "metadata": {},
   "outputs": [],
   "source": []
  }
 ],
 "metadata": {
  "kernelspec": {
   "display_name": "Python 3 (ipykernel)",
   "language": "python",
   "name": "python3"
  },
  "language_info": {
   "codemirror_mode": {
    "name": "ipython",
    "version": 3
   },
   "file_extension": ".py",
   "mimetype": "text/x-python",
   "name": "python",
   "nbconvert_exporter": "python",
   "pygments_lexer": "ipython3",
   "version": "3.10.13"
  }
 },
 "nbformat": 4,
 "nbformat_minor": 5
}
